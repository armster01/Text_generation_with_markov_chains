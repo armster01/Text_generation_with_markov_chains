{
  "nbformat": 4,
  "nbformat_minor": 0,
  "metadata": {
    "colab": {
      "provenance": []
    },
    "kernelspec": {
      "name": "python3",
      "display_name": "Python 3"
    },
    "language_info": {
      "name": "python"
    }
  },
  "cells": [
    {
      "cell_type": "markdown",
      "source": [
        "# Markov Chains are simple stochastic model in which a system can exist in a number of states."
      ],
      "metadata": {
        "id": "D85m-ymgeS4L"
      }
    },
    {
      "cell_type": "markdown",
      "source": [
        "#Importing Dependencies"
      ],
      "metadata": {
        "id": "xCqKizxr0U7g"
      }
    },
    {
      "cell_type": "code",
      "execution_count": null,
      "metadata": {
        "colab": {
          "base_uri": "https://localhost:8080/"
        },
        "id": "MK-ot2xXddlt",
        "outputId": "05bc0ee4-e513-4584-f5e6-b9c825755a4b"
      },
      "outputs": [
        {
          "output_type": "stream",
          "name": "stdout",
          "text": [
            "Mounted at /content/drive\n"
          ]
        }
      ],
      "source": [
        "from google.colab import drive\n",
        "drive.mount('/content/drive')"
      ]
    },
    {
      "cell_type": "code",
      "source": [
        "%cd /content/drive/My Drive/Colab Notebooks"
      ],
      "metadata": {
        "colab": {
          "base_uri": "https://localhost:8080/"
        },
        "id": "_VvEc-3ufajt",
        "outputId": "1b3718c7-cc38-4760-911a-135b295f7413"
      },
      "execution_count": null,
      "outputs": [
        {
          "output_type": "stream",
          "name": "stdout",
          "text": [
            "/content/drive/My Drive/Colab Notebooks\n"
          ]
        }
      ]
    },
    {
      "cell_type": "markdown",
      "source": [
        "#Installing Markovify"
      ],
      "metadata": {
        "id": "nwYjFCLe0fwn"
      }
    },
    {
      "cell_type": "code",
      "source": [
        "!pip install markovify"
      ],
      "metadata": {
        "colab": {
          "base_uri": "https://localhost:8080/"
        },
        "id": "n2SJE61jnBsa",
        "outputId": "57b49dd1-3369-4fec-bbff-fd99cbf67461"
      },
      "execution_count": null,
      "outputs": [
        {
          "output_type": "stream",
          "name": "stdout",
          "text": [
            "Collecting markovify\n",
            "  Downloading markovify-0.9.4.tar.gz (27 kB)\n",
            "  Preparing metadata (setup.py) ... \u001b[?25l\u001b[?25hdone\n",
            "Collecting unidecode (from markovify)\n",
            "  Downloading Unidecode-1.3.8-py3-none-any.whl (235 kB)\n",
            "\u001b[2K     \u001b[90m━━━━━━━━━━━━━━━━━━━━━━━━━━━━━━━━━━━━━━━━\u001b[0m \u001b[32m235.5/235.5 kB\u001b[0m \u001b[31m8.6 MB/s\u001b[0m eta \u001b[36m0:00:00\u001b[0m\n",
            "\u001b[?25hBuilding wheels for collected packages: markovify\n",
            "  Building wheel for markovify (setup.py) ... \u001b[?25l\u001b[?25hdone\n",
            "  Created wheel for markovify: filename=markovify-0.9.4-py3-none-any.whl size=18608 sha256=0d8433c239f13d5e8d11b3c2ec8378030b6ab0ebde1f8ec140795f7451f4d80c\n",
            "  Stored in directory: /root/.cache/pip/wheels/ca/8c/c5/41413e24c484f883a100c63ca7b3b0362b7c6f6eb6d7c9cc7f\n",
            "Successfully built markovify\n",
            "Installing collected packages: unidecode, markovify\n",
            "Successfully installed markovify-0.9.4 unidecode-1.3.8\n"
          ]
        }
      ]
    },
    {
      "cell_type": "markdown",
      "source": [
        "#Start by importing markovify library and a text file whose style we would like to imitate"
      ],
      "metadata": {
        "id": "cFaCeKK6kvQ8"
      }
    },
    {
      "cell_type": "code",
      "source": [
        "import markovify\n",
        "import pandas as pd\n",
        "df = pd.read_csv(\"/content/airport_reviews.csv\")"
      ],
      "metadata": {
        "id": "YmZFROZ1gem7"
      },
      "execution_count": null,
      "outputs": []
    },
    {
      "cell_type": "markdown",
      "source": [
        "#Next, join the individual reviews into 1 large text string and build a Markov chain model using the airport review text"
      ],
      "metadata": {
        "id": "F1aSyF8npBAK"
      }
    },
    {
      "cell_type": "code",
      "source": [
        "from itertools import chain\n",
        "N=100\n",
        "review_subset = df[\"content\"][0:N]\n",
        "text = \"\".join(chain.from_iterable(review_subset))\n",
        "markov_Chain_model = markovify.Text(text)"
      ],
      "metadata": {
        "id": "RLF0HMx0nfiw"
      },
      "execution_count": null,
      "outputs": []
    },
    {
      "cell_type": "markdown",
      "source": [
        "#Generate 5 sentences using the Markov chain model"
      ],
      "metadata": {
        "id": "qraktj60q0dK"
      }
    },
    {
      "cell_type": "code",
      "source": [
        "for i in range(5):\n",
        "  print(markov_Chain_model.make_sentence())"
      ],
      "metadata": {
        "colab": {
          "base_uri": "https://localhost:8080/"
        },
        "id": "iG2UhJ4-q0Iz",
        "outputId": "d9fdb2cf-3c06-4580-ab5b-e9a6ae9070f2"
      },
      "execution_count": null,
      "outputs": [
        {
          "output_type": "stream",
          "name": "stdout",
          "text": [
            "But it is published and useful to others.This is now a good airport for European standards.I used the airport were found to be told they were in the Schengen terminal.\n",
            "In short this could and should be improved at little cost.\n",
            "This includes an arbitrary €3.60 tax imposed by the speed of immigration on arrival and received a nice airport terminal now once you do the check-in.\n",
            "Ticket area for trains is small dirty and at least 15 minutes to walk to the gate.\n",
            "The gate for our return flight to KLM and our experience was smooth.\n"
          ]
        }
      ]
    },
    {
      "cell_type": "markdown",
      "source": [
        "#Generate 3 sentence with a large of no more than 140 characters"
      ],
      "metadata": {
        "id": "3f6RMe70r0kB"
      }
    },
    {
      "cell_type": "code",
      "source": [
        "for i in range(3):\n",
        "  print(markov_Chain_model.make_short_sentence(140))"
      ],
      "metadata": {
        "colab": {
          "base_uri": "https://localhost:8080/"
        },
        "id": "plfIwoUvqUO1",
        "outputId": "153a7aec-61bf-4ca8-cf9a-dc30ac629880"
      },
      "execution_count": null,
      "outputs": [
        {
          "output_type": "stream",
          "name": "stdout",
          "text": [
            "Had plenty of time to spend a minimum amount of time between flights.\n",
            "At least a 400m queue to reach concourse A. After a long walk through concourse B reached passport control.\n",
            "The only way to Africa that does not recognize the airline thought 30 mins minimum.DEL-BRU-GVA.\n"
          ]
        }
      ]
    },
    {
      "cell_type": "markdown",
      "source": [
        "#1. We import markovify library, a library for Markov Chain computations and reading in text which we will inform at our Markov Model\n",
        "\n",
        "#2. We create a Markov Chain Model using the text\n",
        "\n",
        "#3. We generaate a few sentences\n",
        "\n",
        "#4. We create a few tweets in the style of the airport reviews using our Markov Chain"
      ],
      "metadata": {
        "id": "gm4Nj8xdskKq"
      }
    }
  ]
}